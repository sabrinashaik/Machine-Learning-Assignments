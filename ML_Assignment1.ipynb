{
 "cells": [
  {
   "cell_type": "markdown",
   "metadata": {},
   "source": [
    "Question 1\n",
    "The following is a list of 10 students ages:\n",
    "ages = [19, 22, 19, 24, 20, 25, 26, 24, 25, 24]\n",
    "• Sort the list and find the min and max age\n",
    "• Add the min age and the max age again to the list\n",
    "• Find the median age (one middle item or two middle items divided by two)\n",
    "• Find the average age (sum of all items divided by their number)\n",
    "• Find the range of the ages (max minus min)"
   ]
  },
  {
   "cell_type": "code",
   "execution_count": null,
   "metadata": {},
   "outputs": [],
   "source": [
    "ages = [19, 22, 19, 24, 20, 25, 26, 24, 25, 24]\n",
    "ages.sort()\n",
    "print(\"Sorted Ages\", ages)\n",
    "print(\"min age\",min(ages))\n",
    "print(\"max age\",max(ages))\n",
    "ages.append(min(ages))\n",
    "ages.append(max(ages))\n",
    "print(\"Added the min & max age again\",ages) \n",
    "#Median Age\n",
    "import statistics\n",
    "print(\"Median\", statistics.median(ages))\n",
    "print(\"average age\" ,sum(ages)/len(ages))\n",
    "print(\"Range\" ,max(ages)-min(ages))\n"
   ]
  },
  {
   "cell_type": "markdown",
   "metadata": {},
   "source": [
    "Question 2\n",
    "• Create an empty dictionary called dog\n",
    "• Add name, color, breed, legs, age to the dog dictionary\n",
    "• Create a student dictionary and add first_name, last_name, gender, age, marital status,\n",
    "skills, country, city and address as keys for the dictionary\n",
    "• Get the length of the student dictionary\n",
    "• Get the value of skills and check the data type, it should be a list\n",
    "• Modify the skills values by adding one or two skills\n",
    "• Get the dictionary keys as a list\n",
    "• Get the dictionary values as a list"
   ]
  },
  {
   "cell_type": "code",
   "execution_count": null,
   "metadata": {},
   "outputs": [],
   "source": [
    "dog={}\n",
    "dog['name']='value1'\n",
    "dog['color']='value2'\n",
    "dog['breed']='value3'\n",
    "dog['legs']='value4'\n",
    "dog['age']='value5'\n",
    "print(dog)\n",
    "\n",
    "student={}\n",
    "student['first_name']='value1'\n",
    "student['last_name']='value2'\n",
    "student['gender']='value3'\n",
    "student['age']='value4'\n",
    "student['marital status']='value5'\n",
    "student['skills']=['JavaScript', 'React', 'Node', 'MongoDB', 'Python']\n",
    "student['country']='value7'\n",
    "student['city']='value8'\n",
    "student['address']='value9'\n",
    "print(student)\n",
    "print(\"length of the student dictionary: \",len(student))\n",
    "print(type(student['skills']))\n",
    "student['skills'].append('C++')\n",
    "\n",
    "print(student.keys())\n",
    "print(student.values())\n"
   ]
  },
  {
   "cell_type": "markdown",
   "metadata": {},
   "source": [
    "Question 3\n",
    "• Create a tuple containing names of your sisters and your brothers (imaginary siblings are\n",
    "fine)\n",
    "• Join brothers and sisters tuples and assign it to siblings\n",
    "• How many siblings do you have?\n",
    "• Modify the siblings tuple and add the name of your father and mother and assign it to\n",
    "family_members\n"
   ]
  },
  {
   "cell_type": "code",
   "execution_count": null,
   "metadata": {},
   "outputs": [],
   "source": [
    "sisters=('tehmina','maliha','ayesha')\n",
    "brothers=('khalid','salman','riyyan')\n",
    "siblings= sisters+brothers\n",
    "\n",
    "print(siblings)\n",
    "print(len(siblings))\n",
    "\n",
    "family_members= siblings + ('Jeelani','Rehana')\n",
    "print(family_members)"
   ]
  },
  {
   "cell_type": "markdown",
   "metadata": {},
   "source": [
    "Question 4\n",
    "it_companies = {'Facebook', 'Google', 'Microsoft', 'Apple', 'IBM', 'Oracle', 'Amazon'}\n",
    "A = {19, 22, 24, 20, 25, 26}\n",
    "B = {19, 22, 20, 25, 26, 24, 28, 27}\n",
    "age = [22, 19, 24, 25, 26, 24, 25, 24]\n",
    "• Find the length of the set it_companies\n",
    "• Add 'Twitter' to it_companies\n",
    "• Insert multiple IT companies at once to the set it_companies\n",
    "• Remove one of the companies from the set it_companies\n",
    "• What is the difference between remove and discard\n",
    "• Join A and B\n",
    "• Find A intersection B\n",
    "• Is A subset of B\n",
    "• Are A and B disjoint sets\n",
    "• Join A with B and B with A\n",
    "• What is the symmetric difference between A and B\n",
    "• Delete the sets completely\n",
    "• Convert the ages to a set and compare the length of the list and the set."
   ]
  },
  {
   "cell_type": "code",
   "execution_count": null,
   "metadata": {},
   "outputs": [],
   "source": [
    "it_companies = {'Facebook', 'Google', 'Microsoft', 'Apple', 'IBM', 'Oracle', 'Amazon'}\n",
    "\n",
    "\n",
    "print(\"length of the set it_companies\", len(it_companies))\n",
    "it_companies.add(\"Twitter\")\n",
    "print(it_companies)\n",
    "\n",
    "it_companies.update(['Issquared','Cognizent','Accenture'])\n",
    "print(it_companies)\n",
    "\n",
    "it_companies.remove('Cognizent') #Remove eliminates a particular given item from a set\n",
    "print(it_companies)\n",
    "\n",
    "it_companies.clear() #Clears all the items in the set \n",
    "print(it_companies)\n",
    "\n",
    "del it_companies #discards the entire set\n",
    "print(it_companies)"
   ]
  },
  {
   "cell_type": "markdown",
   "metadata": {},
   "source": [
    "• Join A and B.\n",
    "• Find A intersection B.\n",
    "• Is A subset of B.\n",
    "• Are A and B disjoint sets.\n",
    "• Join A with B and B with A\n",
    "• What is the symmetric difference between A and B.\n",
    "• Delete the sets completely.\n",
    "• Convert the ages to a set and compare the length of the list and the set."
   ]
  },
  {
   "cell_type": "code",
   "execution_count": null,
   "metadata": {},
   "outputs": [],
   "source": [
    "A = {19, 22, 24, 20, 25, 26}\n",
    "B = {19, 22, 20, 25, 26, 24, 28, 27}\n",
    "\n",
    "\n",
    "print(A.union(B))\n",
    "print(A.intersection(B))\n",
    "print(A.issubset(B))\n",
    "print(A.isdisjoint(B))\n",
    "\n",
    "print(A.union(B))\n",
    "print(B.union(A))\n",
    "print(A.symmetric_difference(B))\n",
    "\n",
    "del A\n",
    "del B\n",
    "print(A)\n",
    "print(B)\n"
   ]
  },
  {
   "cell_type": "code",
   "execution_count": null,
   "metadata": {},
   "outputs": [],
   "source": [
    "age = [22, 19, 24, 25, 26, 24, 25, 24]\n",
    "print(set(age))\n",
    "print(len(age)-len(set(age)))"
   ]
  },
  {
   "cell_type": "markdown",
   "metadata": {},
   "source": [
    "Question 5\n",
    "The radius of a circle is 30 meters.\n",
    "• Calculate the area of a circle and assign the value to a variable name of _area_of_circle_\n",
    "• Calculate the circumference of a circle and assign the value to a variable name of\n",
    "_circum_of_circle_\n",
    "• Take radius as user input and calculate the area."
   ]
  },
  {
   "cell_type": "code",
   "execution_count": null,
   "metadata": {},
   "outputs": [],
   "source": [
    "r=30\n",
    "_area_of_circle_ = 3.14*(r**2)\n",
    "print(_area_of_circle_)\n",
    "\n",
    "_circum_of_circle_= 2*3.14*r \n",
    "print(_circum_of_circle_)\n",
    "\n",
    "R=int(input(\"enter radius value to calculate Area of circle\"))\n",
    "_area= 3.14*R**2\n",
    "print(_area)"
   ]
  },
  {
   "cell_type": "markdown",
   "metadata": {},
   "source": [
    "Question 6\n",
    "“I am a teacher and I love to inspire and teach people”\n",
    "• How many unique words have been used in the sentence? Use the split methods and set\n",
    "to get the unique words."
   ]
  },
  {
   "cell_type": "code",
   "execution_count": null,
   "metadata": {},
   "outputs": [],
   "source": [
    "string = 'I am a teacher and I love to inspire and teach people'\n",
    "print(len(set(string.split())))"
   ]
  },
  {
   "cell_type": "code",
   "execution_count": null,
   "metadata": {},
   "outputs": [],
   "source": [
    "Question 7\n",
    "Use a tab escape sequence to get the following lines.\n",
    " Name Age Country City\n",
    " Asabeneh 250 Finland Helsinki"
   ]
  },
  {
   "cell_type": "code",
   "execution_count": null,
   "metadata": {},
   "outputs": [],
   "source": [
    "print('Name\\t\\t Age\\t Country\\t City')\n",
    "print('Asabeneh\\t 250\\t Finland\\t Helsinki')"
   ]
  },
  {
   "cell_type": "markdown",
   "metadata": {},
   "source": [
    "Question 8\n",
    "Use the string formatting method to display the following:\n",
    "radius = 10\n",
    "area = 3.14 * radius ** 2\n",
    "“The area of a circle with radius 10 is 314 meters square.”"
   ]
  },
  {
   "cell_type": "code",
   "execution_count": null,
   "metadata": {},
   "outputs": [],
   "source": [
    "radius = 10\n",
    "area = 3.14 * radius ** 2\n",
    "print('The area of a circle with radius {} is {} meters square.'.format(str(radius),str(area)))"
   ]
  },
  {
   "cell_type": "markdown",
   "metadata": {},
   "source": [
    "Question 9\n",
    "Write a program, which reads weights (lbs.) of N students into a list and convert these weights to\n",
    "kilograms in a separate list using Loop. N: No of students (Read input from user)\n",
    "Ex: L1: [150, 155, 145, 148]\n",
    "Output: [68.03, 70.3, 65.77, 67.13]"
   ]
  },
  {
   "cell_type": "code",
   "execution_count": 7,
   "metadata": {},
   "outputs": [
    {
     "name": "stdout",
     "output_type": "stream",
     "text": [
      "Enter number of students3\n",
      "Enter weight in lbs of student 1 120\n",
      "Enter weight in lbs of student 2 230\n",
      "Enter weight in lbs of student 3 100\n",
      "The weights of students in kgs is [54.0, 103.5, 45.0]\n"
     ]
    }
   ],
   "source": [
    "student_count= int(input(\"Enter number of students\"))\n",
    "\n",
    "weight_in_kg = []\n",
    "\n",
    "for i in range(0,student_count):\n",
    "    \n",
    "    weight = float((input(\"Enter weight in lbs of student {} \".format(i+1))))\n",
    "    kg = weight * 0.45\n",
    "    weight_in_kg.append(kg)\n",
    "    \n",
    "    \n",
    "print('The weights of students in kgs is',weight_in_kg)"
   ]
  },
  {
   "cell_type": "code",
   "execution_count": null,
   "metadata": {},
   "outputs": [],
   "source": []
  }
 ],
 "metadata": {
  "kernelspec": {
   "display_name": "Python 3",
   "language": "python",
   "name": "python3"
  },
  "language_info": {
   "codemirror_mode": {
    "name": "ipython",
    "version": 3
   },
   "file_extension": ".py",
   "mimetype": "text/x-python",
   "name": "python",
   "nbconvert_exporter": "python",
   "pygments_lexer": "ipython3",
   "version": "3.7.4"
  }
 },
 "nbformat": 4,
 "nbformat_minor": 4
}
